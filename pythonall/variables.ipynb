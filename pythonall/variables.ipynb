{
 "cells": [
  {
   "cell_type": "code",
   "execution_count": null,
   "id": "fcbd2c43-0dde-4424-bbbd-adf96a7de7d8",
   "metadata": {},
   "outputs": [
    {
     "name": "stdout",
     "output_type": "stream",
     "text": [
      "kirri\n"
     ]
    }
   ],
   "source": [
    "print (\"kirri\")"
   ]
  },
  {
   "cell_type": "raw",
   "id": "f6e6f550-dfd3-46c0-b810-e0515276115f",
   "metadata": {},
   "source": [
    "# python programming"
   ]
  },
  {
   "cell_type": "code",
   "execution_count": 3,
   "id": "84b09d65-b518-4d71-897d-e3987740a1dc",
   "metadata": {},
   "outputs": [],
   "source": [
    "# python programming is easy to learn\n",
    "\n"
   ]
  },
  {
   "cell_type": "code",
   "execution_count": 8,
   "id": "917c17a9-53e1-4462-84b2-5024011a4c77",
   "metadata": {},
   "outputs": [
    {
     "name": "stdout",
     "output_type": "stream",
     "text": [
      "enter k value :  45\n",
      "enter m value :  67\n"
     ]
    },
    {
     "name": "stdout",
     "output_type": "stream",
     "text": [
      "total value  : 112\n"
     ]
    }
   ],
   "source": [
    "\n",
    "k=int(input(\"enter k value : \"))\n",
    "m=int(input(\"enter m value : \"))\n",
    "\n",
    "print(\"total value  :\" , k+m)\n",
    "\n"
   ]
  },
  {
   "cell_type": "code",
   "execution_count": 9,
   "id": "e67a184b-9b4c-4368-8406-b92bfb0c9550",
   "metadata": {},
   "outputs": [
    {
     "name": "stdout",
     "output_type": "stream",
     "text": [
      "total value is : 368\n"
     ]
    }
   ],
   "source": [
    "# basic addition programming\n",
    "\n",
    "k=23\n",
    "m=345\n",
    "print(\"total value is :\" ,k+m)\n"
   ]
  },
  {
   "cell_type": "raw",
   "id": "6b5c087b-6b3c-4a06-b973-e7187dcbda56",
   "metadata": {},
   "source": [
    "  1.input  is a function to take dynamic inputs from te users\n",
    "  2.int is a data to converts text in to integer\n",
    "  3.write a programm to arthametical operation on 2 values take dynamic inputs\n"
   ]
  },
  {
   "cell_type": "markdown",
   "id": "33fdea92-2898-4fc4-b4dc-32f2aa894622",
   "metadata": {},
   "source": [
    "# all arthamatical programming"
   ]
  },
  {
   "cell_type": "code",
   "execution_count": 15,
   "id": "b714c973-4390-4a3d-8c51-da3bbb0ef6dd",
   "metadata": {},
   "outputs": [
    {
     "name": "stdout",
     "output_type": "stream",
     "text": [
      "inter the value of a:  23\n",
      "inter the value of b:  44\n"
     ]
    },
    {
     "name": "stdout",
     "output_type": "stream",
     "text": [
      "the addition of two numbers is :  67\n",
      "the substraction of two numbers is :  -21\n",
      "the multiplication  of two numbers is :  1012\n",
      "the division of two numbers is :  0.5227272727272727\n",
      "the modelus of two numbers is :  23\n"
     ]
    }
   ],
   "source": [
    "a=int(input(\"inter the value of a: \"))\n",
    "b=int(input(\"inter the value of b: \"))\n",
    "\n",
    "print(\"the addition of two numbers is : \" ,a+b) \n",
    "print(\"the substraction of two numbers is : \" ,a-b) \n",
    "print(\"the multiplication  of two numbers is : \" ,a*b)\n",
    "print(\"the division of two numbers is : \" ,a/b) \n",
    "print(\"the modelus of two numbers is : \" ,a%b) "
   ]
  },
  {
   "cell_type": "markdown",
   "id": "82ab8c5e-a685-421d-9956-b960b54ce6f8",
   "metadata": {},
   "source": [
    "# write a program to print name,qualification, location, age"
   ]
  },
  {
   "cell_type": "code",
   "execution_count": 16,
   "id": "c4588ab9-d7a6-431b-9066-f44be9b0caed",
   "metadata": {},
   "outputs": [
    {
     "name": "stdout",
     "output_type": "stream",
     "text": [
      "enter your name :  kiran\n",
      "enter your qualification : B.tech\n",
      "enter your location :  Hyderabad\n",
      "enter your age :  26\n"
     ]
    }
   ],
   "source": [
    "name=input(\"enter your name : \")\n",
    "qualification=input(\"enter your qualification :\")\n",
    "location=input(\"enter your location : \")\n",
    "age=int(input(\"enter your age : \" ))\n"
   ]
  },
  {
   "cell_type": "markdown",
   "id": "507782b6-05e9-4069-8544-54a03e4ae9c5",
   "metadata": {},
   "source": [
    "# variables\n"
   ]
  },
  {
   "cell_type": "raw",
   "id": "498cc0a9-faae-4a73-a744-3690319200f5",
   "metadata": {},
   "source": [
    "1. variable is a data container/ it is a name which holds value "
   ]
  },
  {
   "cell_type": "code",
   "execution_count": 18,
   "id": "f6edc03e-47a7-4e1c-ab49-ca4322bd2d54",
   "metadata": {},
   "outputs": [],
   "source": [
    "a =10\n"
   ]
  },
  {
   "cell_type": "code",
   "execution_count": 19,
   "id": "0a84012d-c523-40ec-9f71-1bc34053b32d",
   "metadata": {},
   "outputs": [],
   "source": [
    "b=35"
   ]
  },
  {
   "cell_type": "code",
   "execution_count": 20,
   "id": "db734613-c37d-4c52-b94b-08359426f5b4",
   "metadata": {},
   "outputs": [],
   "source": [
    "c=\"hyderabad\""
   ]
  },
  {
   "cell_type": "raw",
   "id": "a1bc9511-5480-4266-8504-89ad2168e748",
   "metadata": {},
   "source": [
    "variables name rules:\n",
    "1. variable names should be alphanumaric(underscore is allowed)\n",
    "2.variable names may be short names like a, f,..or more descriptive name like area =45,       width=34...\n",
    "3.variable name should start with characters only\n",
    "4.keywords should not be used as variable names"
   ]
  },
  {
   "cell_type": "code",
   "execution_count": 21,
   "id": "5c5e7fd0-97e4-4873-99bc-0690e7364a86",
   "metadata": {},
   "outputs": [],
   "source": [
    "area= 54 # valid \n",
    "\n"
   ]
  },
  {
   "cell_type": "code",
   "execution_count": 22,
   "id": "50c07176-eb4b-45ab-b3c6-b2b63e34f5cc",
   "metadata": {},
   "outputs": [
    {
     "ename": "SyntaxError",
     "evalue": "invalid decimal literal (1803367670.py, line 1)",
     "output_type": "error",
     "traceback": [
      "\u001b[1;36m  Cell \u001b[1;32mIn[22], line 1\u001b[1;36m\u001b[0m\n\u001b[1;33m    4area=55 # invalid\u001b[0m\n\u001b[1;37m    ^\u001b[0m\n\u001b[1;31mSyntaxError\u001b[0m\u001b[1;31m:\u001b[0m invalid decimal literal\n"
     ]
    }
   ],
   "source": [
    "4area=55 # invalid"
   ]
  },
  {
   "cell_type": "code",
   "execution_count": 24,
   "id": "f0666797-6642-4e84-8c3a-d3ac71c0f504",
   "metadata": {},
   "outputs": [],
   "source": [
    "#variable names are case sensitive \n"
   ]
  },
  {
   "cell_type": "code",
   "execution_count": 25,
   "id": "720cacf0-a290-4f70-8ad6-31088534adca",
   "metadata": {},
   "outputs": [],
   "source": [
    "AGE=78\n",
    "age=89 # both are different"
   ]
  },
  {
   "cell_type": "code",
   "execution_count": 26,
   "id": "4891586f-8c6d-4f9b-93c6-617a117e49cf",
   "metadata": {},
   "outputs": [],
   "source": [
    "AGE=78"
   ]
  },
  {
   "cell_type": "code",
   "execution_count": 27,
   "id": "ad4b3572-8840-4aca-bbe3-67beaad1bd92",
   "metadata": {},
   "outputs": [],
   "source": [
    "age=89"
   ]
  },
  {
   "cell_type": "raw",
   "id": "694aa1ea-0878-44d0-90c3-2adc94dd3203",
   "metadata": {},
   "source": [
    "variables :\n",
    "numaric : int,float,complex\n",
    "txt : strings\n",
    "\n",
    "ex:\n",
    "a=10             # integer\n",
    "b=23.4           # float \n",
    "c=4+6j           # complex\n",
    "d=\"hyderabad\"    # string\n",
    "type() this is used to "
   ]
  },
  {
   "cell_type": "code",
   "execution_count": 32,
   "id": "48ac4b75-9e9b-43cd-89b8-83220a57c185",
   "metadata": {},
   "outputs": [],
   "source": []
  },
  {
   "cell_type": "code",
   "execution_count": null,
   "id": "f54deba3-fcc9-4b7b-924d-80a94455630e",
   "metadata": {},
   "outputs": [],
   "source": []
  }
 ],
 "metadata": {
  "kernelspec": {
   "display_name": "Python 3 (ipykernel)",
   "language": "python",
   "name": "python3"
  },
  "language_info": {
   "codemirror_mode": {
    "name": "ipython",
    "version": 3
   },
   "file_extension": ".py",
   "mimetype": "text/x-python",
   "name": "python",
   "nbconvert_exporter": "python",
   "pygments_lexer": "ipython3",
   "version": "3.11.7"
  }
 },
 "nbformat": 4,
 "nbformat_minor": 5
}
