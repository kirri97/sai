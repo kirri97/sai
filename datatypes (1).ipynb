{
 "cells": [
  {
   "cell_type": "code",
   "execution_count": 1,
   "id": "2209d86f-a62c-413c-a022-90953e139ea7",
   "metadata": {},
   "outputs": [],
   "source": [
    "a=10\n",
    "b=43454676\n",
    "c=-233"
   ]
  },
  {
   "cell_type": "code",
   "execution_count": 2,
   "id": "f0a439d0-7a6f-4597-a933-a88779b9e34f",
   "metadata": {},
   "outputs": [
    {
     "name": "stdout",
     "output_type": "stream",
     "text": [
      "a value is :  10\n",
      "b value is :  43454676\n",
      "c value is :  -23\n"
     ]
    }
   ],
   "source": [
    "print(\"a value is : \" ,a)\n",
    "print(\"b value is : \" ,b)\n",
    "print(\"c value is : \" ,c)\n"
   ]
  },
  {
   "cell_type": "raw",
   "id": "a8bacb38-f8f2-40f7-8533-479d569cb100",
   "metadata": {},
   "source": [
    "Notes:\n",
    "1. type() -type() methods returns data type of a variable "
   ]
  },
  {
   "cell_type": "code",
   "execution_count": 3,
   "id": "eda73c8c-6d6c-4f7b-b737-78e5a265307e",
   "metadata": {},
   "outputs": [
    {
     "name": "stdout",
     "output_type": "stream",
     "text": [
      "data type of a is :  <class 'int'>\n",
      "data type of b is :  <class 'int'>\n",
      "data type of c is :  <class 'int'>\n"
     ]
    }
   ],
   "source": [
    "print(\"data type of a is : \", type(a))\n",
    "print(\"data type of b is : \", type(b))\n",
    "print(\"data type of c is : \", type(c))\n"
   ]
  },
  {
   "cell_type": "markdown",
   "id": "ce21319a-c5f1-4f06-abd0-ee88d34461c1",
   "metadata": {},
   "source": [
    "# floting type data\n"
   ]
  },
  {
   "cell_type": "code",
   "execution_count": 4,
   "id": "80ab43de-7ddc-40bf-8a81-80de54c68e57",
   "metadata": {},
   "outputs": [],
   "source": [
    "a=45.55\n",
    "b=3.567564534\n",
    "c=-467.346"
   ]
  },
  {
   "cell_type": "code",
   "execution_count": 6,
   "id": "73064b07-21cb-46d0-9196-9723bf57f2cb",
   "metadata": {},
   "outputs": [
    {
     "name": "stdout",
     "output_type": "stream",
     "text": [
      "value is a:  45.55 Data type of a is:  <class 'float'>\n",
      "value is b:  3.567564534 Data type of b is:  <class 'float'>\n",
      "value is c:  -467.346 Data type of c is:  <class 'float'>\n"
     ]
    }
   ],
   "source": [
    "print(\"value is a: \" ,a,\"Data type of a is: \",type(a))\n",
    "print(\"value is b: \" ,b,\"Data type of b is: \",type(b))\n",
    "print(\"value is c: \" ,c,\"Data type of c is: \",type(c))\n"
   ]
  },
  {
   "cell_type": "markdown",
   "id": "0ad0a425-22d3-4260-a766-5a94c655b5bd",
   "metadata": {},
   "source": [
    "# complex numbers"
   ]
  },
  {
   "cell_type": "code",
   "execution_count": 7,
   "id": "6981adb5-f3d3-4128-bc78-31cc9b78e45b",
   "metadata": {},
   "outputs": [],
   "source": [
    "a=2+67j \n",
    "b=-35-56j\n",
    "c=-4j"
   ]
  },
  {
   "cell_type": "code",
   "execution_count": 8,
   "id": "43b4eb46-413f-4ff8-a83d-bca37fb1389e",
   "metadata": {},
   "outputs": [
    {
     "name": "stdout",
     "output_type": "stream",
     "text": [
      "value is a:  (2+67j) Data type of a is:  <class 'complex'>\n",
      "value is b:  (-35-56j) Data type of b is:  <class 'complex'>\n",
      "value is c:  (-0-4j) Data type of c is:  <class 'complex'>\n"
     ]
    }
   ],
   "source": [
    "print(\"value is a: \" ,a,\"Data type of a is: \",type(a))\n",
    "print(\"value is b: \" ,b,\"Data type of b is: \",type(b))\n",
    "print(\"value is c: \" ,c,\"Data type of c is: \",type(c))\n"
   ]
  },
  {
   "cell_type": "markdown",
   "id": "0847be55-da13-4968-8b2b-583e1744414f",
   "metadata": {},
   "source": [
    "#  txt data  type - string"
   ]
  },
  {
   "cell_type": "raw",
   "id": "6fc72dac-d9d2-4bd9-af32-dc40b66f0e1f",
   "metadata": {},
   "source": [
    "1. string is a collection of characters\n",
    "2. In python strings are enclosed with  \" \" or ' '\n",
    "3. Even a single character also consideres as a string\n",
    "\n"
   ]
  },
  {
   "cell_type": "code",
   "execution_count": 9,
   "id": "0f1760d9-2488-4b31-8db3-b85163fbdab4",
   "metadata": {},
   "outputs": [],
   "source": [
    "a=\"hyderabad\""
   ]
  },
  {
   "cell_type": "code",
   "execution_count": 11,
   "id": "8e50486b-2491-44ce-a334-01ad7b43c503",
   "metadata": {},
   "outputs": [
    {
     "name": "stdout",
     "output_type": "stream",
     "text": [
      "hyderabad <class 'str'>\n"
     ]
    }
   ],
   "source": [
    "print(a,type(a))\n"
   ]
  },
  {
   "cell_type": "markdown",
   "id": "5e0b86f2-79dc-4c0c-9c49-95487cd26f17",
   "metadata": {},
   "source": [
    "# sequence data type"
   ]
  },
  {
   "cell_type": "raw",
   "id": "d4872f31-7a0c-4476-97e0-3a4ac81a84a8",
   "metadata": {},
   "source": [
    "1.List \n",
    "2.tuple\n",
    "\n",
    "List - List is a collection of hetrogeneous item which are indexed and mutables\n",
    "List items are enclosed with []\n",
    "\n",
    "tuple - tuple is collection of hetrogeneous data items which are index and immutable\n",
    "tuples items are enclosed with ()"
   ]
  },
  {
   "cell_type": "code",
   "execution_count": 14,
   "id": "4b1c5ea4-08d2-4b3d-91ed-3e4b524b7a91",
   "metadata": {},
   "outputs": [],
   "source": [
    "L = [32,44,34.34,'hyderabad',3+8j]"
   ]
  },
  {
   "cell_type": "code",
   "execution_count": 15,
   "id": "355fc68e-c115-47e7-8df6-8289b2ca3e39",
   "metadata": {},
   "outputs": [
    {
     "data": {
      "text/plain": [
       "list"
      ]
     },
     "execution_count": 15,
     "metadata": {},
     "output_type": "execute_result"
    }
   ],
   "source": [
    "type(L)"
   ]
  },
  {
   "cell_type": "code",
   "execution_count": 16,
   "id": "3bca2775-90a9-4148-87cc-d035633b6a4b",
   "metadata": {},
   "outputs": [],
   "source": [
    "t=(32,44,34.34,'hyderabad',3+8j)"
   ]
  },
  {
   "cell_type": "code",
   "execution_count": 18,
   "id": "52210889-a371-4fb7-8f9b-ed7ff3af707c",
   "metadata": {},
   "outputs": [
    {
     "data": {
      "text/plain": [
       "tuple"
      ]
     },
     "execution_count": 18,
     "metadata": {},
     "output_type": "execute_result"
    }
   ],
   "source": [
    "type(t)"
   ]
  },
  {
   "cell_type": "markdown",
   "id": "ef4fdff6-fd80-443d-97ea-8215f495dec4",
   "metadata": {},
   "source": [
    "# Type casting / type conversion"
   ]
  },
  {
   "cell_type": "raw",
   "id": "862e4009-84a3-4a72-8039-2cbba9a8058f",
   "metadata": {},
   "source": [
    "It is a process of converting data type  of a variable to another data\n"
   ]
  },
  {
   "cell_type": "code",
   "execution_count": 19,
   "id": "2cb9ce38-e67a-4551-a219-69b255efcd20",
   "metadata": {},
   "outputs": [
    {
     "name": "stdout",
     "output_type": "stream",
     "text": [
      "<class 'int'>\n"
     ]
    }
   ],
   "source": [
    "a=10\n",
    "print(type(a))"
   ]
  },
  {
   "cell_type": "code",
   "execution_count": 20,
   "id": "eb718f89-9ca2-430c-bd05-f7505cdac569",
   "metadata": {},
   "outputs": [
    {
     "name": "stdout",
     "output_type": "stream",
     "text": [
      "<class 'float'>\n"
     ]
    }
   ],
   "source": [
    "b= float(a)\n",
    "print(type(b))"
   ]
  },
  {
   "cell_type": "code",
   "execution_count": 22,
   "id": "96e4d550-120b-4ea2-9da2-425f49830c2f",
   "metadata": {},
   "outputs": [
    {
     "name": "stdout",
     "output_type": "stream",
     "text": [
      "<class 'str'>\n"
     ]
    }
   ],
   "source": [
    "c=str(a)\n",
    "print(type(c))"
   ]
  },
  {
   "cell_type": "code",
   "execution_count": 24,
   "id": "c1682f79-e0fe-445e-8d5c-92090095bdca",
   "metadata": {},
   "outputs": [
    {
     "name": "stdout",
     "output_type": "stream",
     "text": [
      "<class 'float'>\n"
     ]
    }
   ],
   "source": [
    "a=34.55\n",
    "print(type(a))\n"
   ]
  },
  {
   "cell_type": "code",
   "execution_count": 25,
   "id": "5131e287-2fb5-43d4-9202-f27a7577daf6",
   "metadata": {},
   "outputs": [
    {
     "name": "stdout",
     "output_type": "stream",
     "text": [
      "<class 'int'>\n"
     ]
    }
   ],
   "source": [
    "b= int(a)\n",
    "print(type(b))"
   ]
  },
  {
   "cell_type": "code",
   "execution_count": 26,
   "id": "7afe7df6-cba2-4c36-9d0b-7d34742ab86f",
   "metadata": {},
   "outputs": [
    {
     "data": {
      "text/plain": [
       "34"
      ]
     },
     "execution_count": 26,
     "metadata": {},
     "output_type": "execute_result"
    }
   ],
   "source": [
    "b"
   ]
  },
  {
   "cell_type": "code",
   "execution_count": 27,
   "id": "fac33cc5-0736-4631-8eff-b658e4b5ce7a",
   "metadata": {},
   "outputs": [
    {
     "name": "stdout",
     "output_type": "stream",
     "text": [
      "<class 'str'>\n"
     ]
    }
   ],
   "source": [
    "c=str(a)\n",
    "print(type(c))"
   ]
  },
  {
   "cell_type": "code",
   "execution_count": 28,
   "id": "8f98c6c2-22d9-4ddb-914e-e3a9d4a501df",
   "metadata": {},
   "outputs": [],
   "source": [
    "# string to integer \n",
    "#it is possible if at all if string is equal to numeric value"
   ]
  },
  {
   "cell_type": "code",
   "execution_count": 30,
   "id": "62fa6068-5a55-4e45-bd74-5596116e0e1d",
   "metadata": {},
   "outputs": [
    {
     "name": "stdout",
     "output_type": "stream",
     "text": [
      "344 <class 'str'>\n"
     ]
    }
   ],
   "source": [
    "a='344'\n",
    "print(a,type(a))"
   ]
  },
  {
   "cell_type": "code",
   "execution_count": 31,
   "id": "6c7b253a-7219-4e5a-b784-f3014d7a9319",
   "metadata": {},
   "outputs": [
    {
     "data": {
      "text/plain": [
       "'344'"
      ]
     },
     "execution_count": 31,
     "metadata": {},
     "output_type": "execute_result"
    }
   ],
   "source": [
    "a"
   ]
  },
  {
   "cell_type": "code",
   "execution_count": 33,
   "id": "2e45dbc4-22be-408d-a233-e23fae482bdc",
   "metadata": {},
   "outputs": [
    {
     "name": "stdout",
     "output_type": "stream",
     "text": [
      "<class 'float'>\n"
     ]
    }
   ],
   "source": [
    "c=float(a)\n",
    "print(type(c))"
   ]
  },
  {
   "cell_type": "markdown",
   "id": "a2530d71-cb19-4062-9a32-e0a19d62baa9",
   "metadata": {},
   "source": [
    "# operators"
   ]
  },
  {
   "cell_type": "raw",
   "id": "c7385bf1-8dc8-4ef4-b8e3-e8c6f88bfadb",
   "metadata": {},
   "source": [
    "1. Arithmetic operators\n",
    "2. assignment operators\n",
    "3. Relational operators/ comparision operators\n",
    "4. Logical operators\n",
    "5. Identity operators\n",
    "6. Membership operators\n",
    "7. Bitwiswe operators\n",
    "\n",
    "-->  operaters  performs on operation on operands\n"
   ]
  },
  {
   "cell_type": "raw",
   "id": "b0655694-5f6b-4d1a-a18c-d410c062ac55",
   "metadata": {},
   "source": [
    "1.  Arithmetic operators:\n",
    "\n",
    "       +    addition  \n",
    "       -    substraction\n",
    "       /    division\n",
    "       *    multiplication\n",
    "       %    modulus\n",
    "       //   floor division\n",
    "       **   exponentation\n",
    "\n",
    "    "
   ]
  },
  {
   "cell_type": "code",
   "execution_count": 34,
   "id": "610ebcd2-3801-431c-a7f0-9ddf005b990f",
   "metadata": {},
   "outputs": [],
   "source": [
    "#addition \n",
    "a=33\n",
    "b=44\n"
   ]
  },
  {
   "cell_type": "code",
   "execution_count": 36,
   "id": "495ec3da-3d96-4eb2-b4de-c7d3375d5aee",
   "metadata": {},
   "outputs": [
    {
     "data": {
      "text/plain": [
       "77"
      ]
     },
     "execution_count": 36,
     "metadata": {},
     "output_type": "execute_result"
    }
   ],
   "source": [
    "a+b # addition"
   ]
  },
  {
   "cell_type": "code",
   "execution_count": 37,
   "id": "270d544a-aa23-4543-8b16-8d279717eeb5",
   "metadata": {},
   "outputs": [
    {
     "data": {
      "text/plain": [
       "-11"
      ]
     },
     "execution_count": 37,
     "metadata": {},
     "output_type": "execute_result"
    }
   ],
   "source": [
    "a-b #sub"
   ]
  },
  {
   "cell_type": "code",
   "execution_count": 38,
   "id": "0a8f8598-dd7a-477c-ac69-40f33f833808",
   "metadata": {},
   "outputs": [
    {
     "data": {
      "text/plain": [
       "0.75"
      ]
     },
     "execution_count": 38,
     "metadata": {},
     "output_type": "execute_result"
    }
   ],
   "source": [
    "a/b #division"
   ]
  },
  {
   "cell_type": "code",
   "execution_count": 39,
   "id": "79b01c35-5cb1-41ea-82dd-5bdfb3f4468a",
   "metadata": {},
   "outputs": [
    {
     "data": {
      "text/plain": [
       "1452"
      ]
     },
     "execution_count": 39,
     "metadata": {},
     "output_type": "execute_result"
    }
   ],
   "source": [
    "a*b # multi"
   ]
  },
  {
   "cell_type": "code",
   "execution_count": 40,
   "id": "bdbc8de9-17f1-431d-890a-bd06f97493af",
   "metadata": {},
   "outputs": [
    {
     "data": {
      "text/plain": [
       "33"
      ]
     },
     "execution_count": 40,
     "metadata": {},
     "output_type": "execute_result"
    }
   ],
   "source": [
    "a%b # modulus"
   ]
  },
  {
   "cell_type": "code",
   "execution_count": 41,
   "id": "01c7e90d-9a5c-4ac2-b72b-37e55da9db2f",
   "metadata": {},
   "outputs": [
    {
     "data": {
      "text/plain": [
       "0"
      ]
     },
     "execution_count": 41,
     "metadata": {},
     "output_type": "execute_result"
    }
   ],
   "source": [
    "a//b # floor  division"
   ]
  },
  {
   "cell_type": "code",
   "execution_count": 42,
   "id": "f3604cf6-2388-43a1-85d2-5e4df67bc8c9",
   "metadata": {},
   "outputs": [
    {
     "data": {
      "text/plain": [
       "6525493398107157108766697872951317590181876897566395888194243317121"
      ]
     },
     "execution_count": 42,
     "metadata": {},
     "output_type": "execute_result"
    }
   ],
   "source": [
    "a**b # exponentation"
   ]
  },
  {
   "cell_type": "markdown",
   "id": "51054176-f640-44de-909d-68ecef9818b9",
   "metadata": {},
   "source": [
    "# Assignment operator\n"
   ]
  },
  {
   "cell_type": "raw",
   "id": "b16a6abb-e7d0-44ee-86f6-7b5c094df605",
   "metadata": {},
   "source": [
    "--->   is used to assign values to variables"
   ]
  },
  {
   "cell_type": "code",
   "execution_count": 1,
   "id": "acdf314a-7943-421b-b140-18c3bcfa0a3c",
   "metadata": {},
   "outputs": [],
   "source": [
    "a=23"
   ]
  },
  {
   "cell_type": "code",
   "execution_count": 2,
   "id": "9d0f71d3-0f36-4da0-b4c2-6e66bc77fcfe",
   "metadata": {},
   "outputs": [],
   "source": [
    "a+=3 # a= a-3\n"
   ]
  },
  {
   "cell_type": "code",
   "execution_count": 3,
   "id": "1d0e1c01-1d51-4f90-826e-cb03df9705f4",
   "metadata": {},
   "outputs": [
    {
     "data": {
      "text/plain": [
       "26"
      ]
     },
     "execution_count": 3,
     "metadata": {},
     "output_type": "execute_result"
    }
   ],
   "source": [
    "a\n"
   ]
  },
  {
   "cell_type": "code",
   "execution_count": 4,
   "id": "1bb4804d-5596-4506-a2ab-255bc0417cbd",
   "metadata": {},
   "outputs": [],
   "source": [
    "a*=3 # a=a*3"
   ]
  },
  {
   "cell_type": "code",
   "execution_count": 5,
   "id": "30e5803f-b4ff-41a8-af97-7ad8d1b08872",
   "metadata": {},
   "outputs": [
    {
     "data": {
      "text/plain": [
       "78"
      ]
     },
     "execution_count": 5,
     "metadata": {},
     "output_type": "execute_result"
    }
   ],
   "source": [
    "a"
   ]
  },
  {
   "cell_type": "code",
   "execution_count": 6,
   "id": "e41e0dbe-33e3-4ac4-8ba6-208d1e0257db",
   "metadata": {},
   "outputs": [],
   "source": [
    "a%=3"
   ]
  },
  {
   "cell_type": "code",
   "execution_count": 7,
   "id": "cf4a6a85-343a-400f-ae41-b6bd908329e1",
   "metadata": {},
   "outputs": [
    {
     "data": {
      "text/plain": [
       "0"
      ]
     },
     "execution_count": 7,
     "metadata": {},
     "output_type": "execute_result"
    }
   ],
   "source": [
    "a\n"
   ]
  },
  {
   "cell_type": "markdown",
   "id": "61dfef42-1844-4a80-9eb0-7213e97a315c",
   "metadata": {},
   "source": [
    "# Comparision operators:"
   ]
  },
  {
   "cell_type": "raw",
   "id": "b166cb70-f8b0-4b48-8734-c9eb5f85e24b",
   "metadata": {},
   "source": [
    "Comparision operators:\n",
    "1. is Equal to ==\n",
    "2. Greater than >\n",
    "3. Less than <\n",
    "4. Greater than or euqls to >=\n",
    "5. Lesss than or equal to <=\n",
    "6. Note equal to !=\n",
    "\n",
    "Comparision operators are used to compare two variables\n",
    "\n",
    "\n"
   ]
  },
  {
   "cell_type": "code",
   "execution_count": 14,
   "id": "6282db75-1664-4414-ad58-9dba7a0b8b00",
   "metadata": {},
   "outputs": [],
   "source": [
    "# Equal to\n",
    "# == is used to check equality of two variables\n",
    "# it returns true if two variables have same else flase"
   ]
  },
  {
   "cell_type": "code",
   "execution_count": 9,
   "id": "8d67ce27-53b0-4851-8a0b-1a10d3ff773a",
   "metadata": {},
   "outputs": [],
   "source": [
    "a=20\n",
    "b=30"
   ]
  },
  {
   "cell_type": "code",
   "execution_count": 10,
   "id": "96da3ef9-886d-4fb7-847e-a6c530e98f2b",
   "metadata": {},
   "outputs": [
    {
     "data": {
      "text/plain": [
       "False"
      ]
     },
     "execution_count": 10,
     "metadata": {},
     "output_type": "execute_result"
    }
   ],
   "source": [
    "a==b"
   ]
  },
  {
   "cell_type": "code",
   "execution_count": 12,
   "id": "4e98c3d7-2596-43d4-86b1-2fcfd03c54d6",
   "metadata": {},
   "outputs": [
    {
     "data": {
      "text/plain": [
       "True"
      ]
     },
     "execution_count": 12,
     "metadata": {},
     "output_type": "execute_result"
    }
   ],
   "source": [
    "x=34\n",
    "y=34\n",
    "x==y"
   ]
  },
  {
   "cell_type": "code",
   "execution_count": 15,
   "id": "4d8079e0-6fce-468e-9411-25cd528942c1",
   "metadata": {},
   "outputs": [],
   "source": [
    "# not equal to \n",
    "# !=   It returns true  if two variables are not same else false"
   ]
  },
  {
   "cell_type": "code",
   "execution_count": 16,
   "id": "1f30dbbb-cd0c-47ee-ac7f-c00a8a83b679",
   "metadata": {},
   "outputs": [
    {
     "data": {
      "text/plain": [
       "True"
      ]
     },
     "execution_count": 16,
     "metadata": {},
     "output_type": "execute_result"
    }
   ],
   "source": [
    "a!=b "
   ]
  },
  {
   "cell_type": "code",
   "execution_count": 17,
   "id": "ade38f1a-1659-4596-b7d6-0078d059dd26",
   "metadata": {},
   "outputs": [
    {
     "data": {
      "text/plain": [
       "False"
      ]
     },
     "execution_count": 17,
     "metadata": {},
     "output_type": "execute_result"
    }
   ],
   "source": [
    "x!=y"
   ]
  },
  {
   "cell_type": "code",
   "execution_count": 18,
   "id": "80d6e065-6445-4198-97aa-69b631e905ec",
   "metadata": {},
   "outputs": [],
   "source": [
    "# Greater  than >\n",
    "# It retuns true if  first variable is greater than second variable"
   ]
  },
  {
   "cell_type": "code",
   "execution_count": 19,
   "id": "f61b93ba-c726-41ad-b110-964475fc8062",
   "metadata": {},
   "outputs": [
    {
     "data": {
      "text/plain": [
       "20"
      ]
     },
     "execution_count": 19,
     "metadata": {},
     "output_type": "execute_result"
    }
   ],
   "source": [
    "a"
   ]
  },
  {
   "cell_type": "code",
   "execution_count": 20,
   "id": "a253cc66-56e1-4edb-adad-250b76d6ee30",
   "metadata": {},
   "outputs": [
    {
     "data": {
      "text/plain": [
       "30"
      ]
     },
     "execution_count": 20,
     "metadata": {},
     "output_type": "execute_result"
    }
   ],
   "source": [
    "b"
   ]
  },
  {
   "cell_type": "code",
   "execution_count": 21,
   "id": "1d50cabc-4880-4960-83a8-2be49fcbb17a",
   "metadata": {},
   "outputs": [
    {
     "data": {
      "text/plain": [
       "False"
      ]
     },
     "execution_count": 21,
     "metadata": {},
     "output_type": "execute_result"
    }
   ],
   "source": [
    "a>b"
   ]
  },
  {
   "cell_type": "code",
   "execution_count": 22,
   "id": "9a09ef67-8819-4645-b759-0344740ce09b",
   "metadata": {},
   "outputs": [
    {
     "data": {
      "text/plain": [
       "True"
      ]
     },
     "execution_count": 22,
     "metadata": {},
     "output_type": "execute_result"
    }
   ],
   "source": [
    "b>a"
   ]
  },
  {
   "cell_type": "code",
   "execution_count": 24,
   "id": "c73dc586-ec58-46f0-93c9-5c55ad295e38",
   "metadata": {},
   "outputs": [],
   "source": [
    "# Less than <\n",
    "# it retuns true if one variable is less than another variable\n"
   ]
  },
  {
   "cell_type": "code",
   "execution_count": 25,
   "id": "4870f7ca-db42-4c56-8afe-f8362e3fe1f9",
   "metadata": {},
   "outputs": [
    {
     "data": {
      "text/plain": [
       "(20, 30)"
      ]
     },
     "execution_count": 25,
     "metadata": {},
     "output_type": "execute_result"
    }
   ],
   "source": [
    "a,b"
   ]
  },
  {
   "cell_type": "code",
   "execution_count": 26,
   "id": "a946feb7-057e-4795-929d-5687cd007fde",
   "metadata": {},
   "outputs": [
    {
     "data": {
      "text/plain": [
       "True"
      ]
     },
     "execution_count": 26,
     "metadata": {},
     "output_type": "execute_result"
    }
   ],
   "source": [
    "a<b"
   ]
  },
  {
   "cell_type": "code",
   "execution_count": 28,
   "id": "0a2f39fe-7dde-4e53-ac0e-4455051f3010",
   "metadata": {},
   "outputs": [],
   "source": [
    "# less than or equal to  <=\n",
    "# it returns true if one variable is less than also equal to  than another value "
   ]
  },
  {
   "cell_type": "code",
   "execution_count": 29,
   "id": "a6430ea6-19bd-4d46-a407-2b67dd467c63",
   "metadata": {},
   "outputs": [
    {
     "data": {
      "text/plain": [
       "(20, 30)"
      ]
     },
     "execution_count": 29,
     "metadata": {},
     "output_type": "execute_result"
    }
   ],
   "source": [
    "a,b"
   ]
  },
  {
   "cell_type": "code",
   "execution_count": 30,
   "id": "d33aa92c-d503-45ca-8eeb-5d1cfad0056f",
   "metadata": {},
   "outputs": [
    {
     "data": {
      "text/plain": [
       "True"
      ]
     },
     "execution_count": 30,
     "metadata": {},
     "output_type": "execute_result"
    }
   ],
   "source": [
    "a<=b"
   ]
  },
  {
   "cell_type": "code",
   "execution_count": 31,
   "id": "ec231ad7-015e-4f81-9aee-ca62fa777344",
   "metadata": {},
   "outputs": [],
   "source": [
    "# Greater than or equal to >=\n",
    "# it returns true if the value is grater or equal to the value othervise false"
   ]
  },
  {
   "cell_type": "code",
   "execution_count": 32,
   "id": "a5538896-a2bf-423b-9fbd-46ff25b71ab6",
   "metadata": {},
   "outputs": [
    {
     "data": {
      "text/plain": [
       "(20, 30)"
      ]
     },
     "execution_count": 32,
     "metadata": {},
     "output_type": "execute_result"
    }
   ],
   "source": [
    "a,b"
   ]
  },
  {
   "cell_type": "code",
   "execution_count": 33,
   "id": "4cdbd2df-4ea8-4974-8207-02fa674e0dbc",
   "metadata": {},
   "outputs": [
    {
     "data": {
      "text/plain": [
       "True"
      ]
     },
     "execution_count": 33,
     "metadata": {},
     "output_type": "execute_result"
    }
   ],
   "source": [
    "b>=a"
   ]
  },
  {
   "cell_type": "markdown",
   "id": "48cf812a-c68a-420a-bb30-4ebb0be74609",
   "metadata": {},
   "source": [
    "# Logical Operators:"
   ]
  },
  {
   "cell_type": "raw",
   "id": "6f0aa7f6-c344-48ce-a9cb-abb48ee76564",
   "metadata": {},
   "source": [
    "Logical operators are use to compare two statements\n",
    "1. and \n",
    "2. or\n",
    "3. not"
   ]
  },
  {
   "cell_type": "raw",
   "id": "2dadd43b-ea2c-4162-96ba-6f2e7ffc0e79",
   "metadata": {},
   "source": [
    "1. and    #  and  retuens True if both statements are true\n",
    "\n",
    "       a=10    b=5\n",
    "\n",
    "         a<20 and b<a\n",
    "\n",
    "       st1      st2      result\n",
    "       true     false     false\n",
    "       false    true      false\n",
    "       false     false     false\n",
    "       true     true       true"
   ]
  },
  {
   "cell_type": "code",
   "execution_count": 34,
   "id": "bff6d3ae-0d7b-4b53-85de-e1847fb7077d",
   "metadata": {},
   "outputs": [],
   "source": [
    "a=20\n",
    "b=30\n"
   ]
  },
  {
   "cell_type": "code",
   "execution_count": 35,
   "id": "5fdde5cd-fb66-4357-8831-265db0a55b95",
   "metadata": {},
   "outputs": [
    {
     "data": {
      "text/plain": [
       "True"
      ]
     },
     "execution_count": 35,
     "metadata": {},
     "output_type": "execute_result"
    }
   ],
   "source": [
    "a<b and b<40  # True and True  "
   ]
  },
  {
   "cell_type": "code",
   "execution_count": 36,
   "id": "afcb7ecd-7725-4bb1-9cc8-ff630554b551",
   "metadata": {},
   "outputs": [
    {
     "data": {
      "text/plain": [
       "False"
      ]
     },
     "execution_count": 36,
     "metadata": {},
     "output_type": "execute_result"
    }
   ],
   "source": [
    "a<b and b<a # true and false"
   ]
  },
  {
   "cell_type": "code",
   "execution_count": 38,
   "id": "39253367-86d3-4419-b9a2-3168bf7de2a4",
   "metadata": {},
   "outputs": [
    {
     "data": {
      "text/plain": [
       "False"
      ]
     },
     "execution_count": 38,
     "metadata": {},
     "output_type": "execute_result"
    }
   ],
   "source": [
    "a>b and b<a  # false and false "
   ]
  },
  {
   "cell_type": "code",
   "execution_count": 39,
   "id": "96e45560-8be1-4eb9-b911-c688375bb989",
   "metadata": {},
   "outputs": [
    {
     "data": {
      "text/plain": [
       "False"
      ]
     },
     "execution_count": 39,
     "metadata": {},
     "output_type": "execute_result"
    }
   ],
   "source": [
    " b<a  and a<b  # false  and true"
   ]
  },
  {
   "cell_type": "markdown",
   "id": "c61ef38c-dbf3-4aa6-8164-e0301f106590",
   "metadata": {},
   "source": [
    "# Logical or"
   ]
  },
  {
   "cell_type": "raw",
   "id": "cd5130c4-dca5-4061-b46f-4a85a1c95a61",
   "metadata": {},
   "source": [
    "Logical or\n",
    "It returns true if any one statement is true\n"
   ]
  },
  {
   "cell_type": "raw",
   "id": "eb24b71c-460f-49bf-9c5a-a9dd38b616a5",
   "metadata": {},
   "source": [
    "logical or \n",
    "\n",
    "       st1        st2      result\n",
    "       true       true      true\n",
    "       false      true      true\n",
    "       true       false     true\n",
    "       false      false     false"
   ]
  },
  {
   "cell_type": "code",
   "execution_count": 40,
   "id": "98d24d2f-602a-4a2f-89f7-cc20201c8731",
   "metadata": {},
   "outputs": [
    {
     "data": {
      "text/plain": [
       "(20, 30)"
      ]
     },
     "execution_count": 40,
     "metadata": {},
     "output_type": "execute_result"
    }
   ],
   "source": [
    "a,b"
   ]
  },
  {
   "cell_type": "code",
   "execution_count": 41,
   "id": "26b7efde-12e0-454a-8650-d00e989b41aa",
   "metadata": {},
   "outputs": [
    {
     "data": {
      "text/plain": [
       "True"
      ]
     },
     "execution_count": 41,
     "metadata": {},
     "output_type": "execute_result"
    }
   ],
   "source": [
    "a>30 or b>a  # true or true "
   ]
  },
  {
   "cell_type": "code",
   "execution_count": 42,
   "id": "e99d796b-b000-47b8-bfbe-adbfe3053877",
   "metadata": {},
   "outputs": [
    {
     "data": {
      "text/plain": [
       "True"
      ]
     },
     "execution_count": 42,
     "metadata": {},
     "output_type": "execute_result"
    }
   ],
   "source": [
    "a>10 or b>50 # true or false"
   ]
  },
  {
   "cell_type": "code",
   "execution_count": 43,
   "id": "c1105c29-1175-42a9-9142-d36f6a8e52b2",
   "metadata": {},
   "outputs": [
    {
     "data": {
      "text/plain": [
       "False"
      ]
     },
     "execution_count": 43,
     "metadata": {},
     "output_type": "execute_result"
    }
   ],
   "source": [
    "a>30 or b>50 # false or false"
   ]
  },
  {
   "cell_type": "code",
   "execution_count": 44,
   "id": "7fd7f069-6799-41c9-8213-87e4e90bbfcd",
   "metadata": {},
   "outputs": [
    {
     "data": {
      "text/plain": [
       "True"
      ]
     },
     "execution_count": 44,
     "metadata": {},
     "output_type": "execute_result"
    }
   ],
   "source": [
    "a>30 or b<50 # false or true"
   ]
  },
  {
   "cell_type": "markdown",
   "id": "0d3a9eb1-aa2b-4440-a3fa-cf5c14766e40",
   "metadata": {},
   "source": [
    "# Logical Not"
   ]
  },
  {
   "cell_type": "raw",
   "id": "4680b3a9-35cf-4391-8bf6-4723a4262aad",
   "metadata": {},
   "source": [
    "Logical Not\n",
    "it returns reverse of a result\n"
   ]
  },
  {
   "cell_type": "code",
   "execution_count": 45,
   "id": "296cd656-4b01-4f8e-8370-6e1d3f28b51b",
   "metadata": {},
   "outputs": [
    {
     "data": {
      "text/plain": [
       "True"
      ]
     },
     "execution_count": 45,
     "metadata": {},
     "output_type": "execute_result"
    }
   ],
   "source": [
    "not (a>50)"
   ]
  },
  {
   "cell_type": "code",
   "execution_count": 46,
   "id": "d1427dae-e61b-405f-8525-1955fc40afca",
   "metadata": {},
   "outputs": [
    {
     "data": {
      "text/plain": [
       "False"
      ]
     },
     "execution_count": 46,
     "metadata": {},
     "output_type": "execute_result"
    }
   ],
   "source": [
    "not(a>5)"
   ]
  },
  {
   "cell_type": "markdown",
   "id": "ddff26cc-9a5c-4f91-9d52-7b475ae1943c",
   "metadata": {},
   "source": [
    "# Identity operator"
   ]
  },
  {
   "cell_type": "raw",
   "id": "d25eae38-d1af-4836-8c6e-77bc7100a4c2",
   "metadata": {},
   "source": [
    "Identity operator\n",
    "1. is --- it returns true if both variables have same value  else false\n",
    "2. is not -- it returns true if both variables are not same else false"
   ]
  },
  {
   "cell_type": "code",
   "execution_count": 47,
   "id": "24b4134b-f6ad-40f5-a4c4-4ea416d8a31e",
   "metadata": {},
   "outputs": [
    {
     "data": {
      "text/plain": [
       "(20, 30)"
      ]
     },
     "execution_count": 47,
     "metadata": {},
     "output_type": "execute_result"
    }
   ],
   "source": [
    "a,b"
   ]
  },
  {
   "cell_type": "code",
   "execution_count": 48,
   "id": "daaeba95-7bc7-4193-8cd4-035e6ae84a39",
   "metadata": {},
   "outputs": [
    {
     "data": {
      "text/plain": [
       "False"
      ]
     },
     "execution_count": 48,
     "metadata": {},
     "output_type": "execute_result"
    }
   ],
   "source": [
    "a is b"
   ]
  },
  {
   "cell_type": "code",
   "execution_count": 49,
   "id": "70305bb3-78e0-4fdc-885e-8b62e300c0a5",
   "metadata": {},
   "outputs": [
    {
     "data": {
      "text/plain": [
       "True"
      ]
     },
     "execution_count": 49,
     "metadata": {},
     "output_type": "execute_result"
    }
   ],
   "source": [
    "a is not b"
   ]
  },
  {
   "cell_type": "code",
   "execution_count": 50,
   "id": "796cb623-73dd-45c7-a161-fdcd48fccdbd",
   "metadata": {},
   "outputs": [],
   "source": [
    "x= 10\n",
    "y=10"
   ]
  },
  {
   "cell_type": "code",
   "execution_count": 51,
   "id": "cfd4f2e6-eeb7-4610-a1a2-81deaf9238fc",
   "metadata": {},
   "outputs": [
    {
     "data": {
      "text/plain": [
       "True"
      ]
     },
     "execution_count": 51,
     "metadata": {},
     "output_type": "execute_result"
    }
   ],
   "source": [
    "x is y "
   ]
  },
  {
   "cell_type": "markdown",
   "id": "1d48704b-3dae-4419-9f54-8ca2795dc233",
   "metadata": {},
   "source": [
    "# Membership Operators"
   ]
  },
  {
   "cell_type": "raw",
   "id": "02b74a40-ff3f-4ad8-8992-664e7065b553",
   "metadata": {},
   "source": [
    "1. in -- it returns true if a specified value/char/string is present in a given sequencen else false\n",
    "2. not in  --  it  it returns true if a specified value/char/string is not present in a given sequencen else false"
   ]
  },
  {
   "cell_type": "code",
   "execution_count": 57,
   "id": "b566a77e-d93e-47e4-9e6b-fb5c7f398f30",
   "metadata": {},
   "outputs": [],
   "source": [
    "a ='python is good'\n"
   ]
  },
  {
   "cell_type": "code",
   "execution_count": 58,
   "id": "dcbab097-7187-463b-bcb1-4f70a3bbf716",
   "metadata": {},
   "outputs": [
    {
     "data": {
      "text/plain": [
       "True"
      ]
     },
     "execution_count": 58,
     "metadata": {},
     "output_type": "execute_result"
    }
   ],
   "source": [
    "'p' in a"
   ]
  },
  {
   "cell_type": "code",
   "execution_count": 59,
   "id": "0ecd3d2e-c5a5-46b8-8ad5-459fc6936a65",
   "metadata": {},
   "outputs": [
    {
     "data": {
      "text/plain": [
       "True"
      ]
     },
     "execution_count": 59,
     "metadata": {},
     "output_type": "execute_result"
    }
   ],
   "source": [
    "'python' in a\n"
   ]
  },
  {
   "cell_type": "code",
   "execution_count": 60,
   "id": "aaf39ec1-4866-4dd7-b8c2-7d4bc261ccba",
   "metadata": {},
   "outputs": [
    {
     "data": {
      "text/plain": [
       "True"
      ]
     },
     "execution_count": 60,
     "metadata": {},
     "output_type": "execute_result"
    }
   ],
   "source": [
    "' java ' not in a"
   ]
  },
  {
   "cell_type": "markdown",
   "id": "dea7ab6f-92f1-4e7f-a994-52f86b58569a",
   "metadata": {},
   "source": [
    "# Bitwise Operators\n"
   ]
  },
  {
   "cell_type": "raw",
   "id": "f1827031-6559-4fd8-bde7-a29515a89c39",
   "metadata": {},
   "source": [
    "1. and  &\n",
    "2. or  |\n"
   ]
  },
  {
   "cell_type": "code",
   "execution_count": 61,
   "id": "38cbfecc-e5c7-45fa-91f3-b3b61508fc49",
   "metadata": {},
   "outputs": [
    {
     "data": {
      "text/plain": [
       "2"
      ]
     },
     "execution_count": 61,
     "metadata": {},
     "output_type": "execute_result"
    }
   ],
   "source": [
    "2 & 3"
   ]
  },
  {
   "cell_type": "code",
   "execution_count": 62,
   "id": "0e7078e9-730f-4adc-9728-77dfb56ffaaa",
   "metadata": {},
   "outputs": [
    {
     "data": {
      "text/plain": [
       "0"
      ]
     },
     "execution_count": 62,
     "metadata": {},
     "output_type": "execute_result"
    }
   ],
   "source": [
    "3&4"
   ]
  },
  {
   "cell_type": "code",
   "execution_count": 63,
   "id": "7a0e44f8-d027-498e-952b-4c11aaea5665",
   "metadata": {},
   "outputs": [
    {
     "data": {
      "text/plain": [
       "3"
      ]
     },
     "execution_count": 63,
     "metadata": {},
     "output_type": "execute_result"
    }
   ],
   "source": [
    "2 |3"
   ]
  },
  {
   "cell_type": "code",
   "execution_count": 64,
   "id": "fce54fa1-b3a3-4487-82cf-aee058c7d622",
   "metadata": {},
   "outputs": [
    {
     "data": {
      "text/plain": [
       "7"
      ]
     },
     "execution_count": 64,
     "metadata": {},
     "output_type": "execute_result"
    }
   ],
   "source": [
    "3 | 4"
   ]
  },
  {
   "cell_type": "code",
   "execution_count": null,
   "id": "837575df-eb20-47ce-ac6a-373f4d62c3b1",
   "metadata": {},
   "outputs": [],
   "source": []
  }
 ],
 "metadata": {
  "kernelspec": {
   "display_name": "Python 3 (ipykernel)",
   "language": "python",
   "name": "python3"
  },
  "language_info": {
   "codemirror_mode": {
    "name": "ipython",
    "version": 3
   },
   "file_extension": ".py",
   "mimetype": "text/x-python",
   "name": "python",
   "nbconvert_exporter": "python",
   "pygments_lexer": "ipython3",
   "version": "3.11.7"
  }
 },
 "nbformat": 4,
 "nbformat_minor": 5
}
