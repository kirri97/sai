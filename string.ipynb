{
 "cells": [
  {
   "cell_type": "raw",
   "id": "b152b9f6-92db-43ad-a5f7-7440f4064805",
   "metadata": {},
   "source": [
    "string is a collection of characters"
   ]
  },
  {
   "cell_type": "markdown",
   "id": "f7706452-2960-4c08-8cd6-76bd4d3560d3",
   "metadata": {},
   "source": [
    "a=\"python programming\"\n"
   ]
  },
  {
   "cell_type": "code",
   "execution_count": 4,
   "id": "dcc5cd97-d340-4bf3-bfd1-7d31795b7c0c",
   "metadata": {},
   "outputs": [
    {
     "data": {
      "text/plain": [
       "str"
      ]
     },
     "execution_count": 4,
     "metadata": {},
     "output_type": "execute_result"
    }
   ],
   "source": [
    "type(a)\n"
   ]
  },
  {
   "cell_type": "raw",
   "id": "ad300b87-743b-42d1-94f4-b539c2ebb0e5",
   "metadata": {},
   "source": [
    "In python index start with zero\n",
    "Acceesing String Characters:\n",
    "# string characters can be accesed bt referring to their index value\n",
    "\n"
   ]
  },
  {
   "cell_type": "raw",
   "id": "68dfc86e-d4db-4d18-9d58-3aa165da0bfb",
   "metadata": {},
   "source": [
    "a='python'"
   ]
  },
  {
   "cell_type": "code",
   "execution_count": 5,
   "id": "0336bca2-a80b-4d02-abf5-b662d99b8e87",
   "metadata": {},
   "outputs": [
    {
     "data": {
      "text/plain": [
       "'p'"
      ]
     },
     "execution_count": 5,
     "metadata": {},
     "output_type": "execute_result"
    }
   ],
   "source": [
    "a[0]"
   ]
  },
  {
   "cell_type": "code",
   "execution_count": 6,
   "id": "1514372e-804f-42f1-957a-f09ad7b5b7c5",
   "metadata": {},
   "outputs": [
    {
     "data": {
      "text/plain": [
       "'g'"
      ]
     },
     "execution_count": 6,
     "metadata": {},
     "output_type": "execute_result"
    }
   ],
   "source": [
    "a[-1]"
   ]
  },
  {
   "cell_type": "code",
   "execution_count": 8,
   "id": "65b3f785-ce32-42d2-b12a-649e50e59c3d",
   "metadata": {},
   "outputs": [
    {
     "data": {
      "text/plain": [
       "'o'"
      ]
     },
     "execution_count": 8,
     "metadata": {},
     "output_type": "execute_result"
    }
   ],
   "source": [
    "a[4]"
   ]
  },
  {
   "cell_type": "markdown",
   "id": "d627755d-090b-47b1-9016-7fa30718bf8e",
   "metadata": {},
   "source": [
    "# String slicing"
   ]
  },
  {
   "cell_type": "raw",
   "id": "cf733049-3183-4a16-b305-866b2bb9900d",
   "metadata": {},
   "source": [
    "String slicing:\n",
    "It is a process of accesing a part of stri ng . it can be done using index values\n",
    "Syntax :\n",
    "         String[start.index:end.index]"
   ]
  },
  {
   "cell_type": "code",
   "execution_count": 9,
   "id": "14027f01-50fb-443c-9d9f-b5e988d44bcf",
   "metadata": {},
   "outputs": [],
   "source": [
    "a='programming'"
   ]
  },
  {
   "cell_type": "code",
   "execution_count": 10,
   "id": "a003e49a-780d-4f59-a7fd-190a12cd1383",
   "metadata": {},
   "outputs": [
    {
     "data": {
      "text/plain": [
       "'pro'"
      ]
     },
     "execution_count": 10,
     "metadata": {},
     "output_type": "execute_result"
    }
   ],
   "source": [
    "a[:3]  # a[0:3]"
   ]
  },
  {
   "cell_type": "code",
   "execution_count": 11,
   "id": "364fa8b2-0f88-4166-bb3b-cff7f795d8e8",
   "metadata": {},
   "outputs": [
    {
     "data": {
      "text/plain": [
       "'rammi'"
      ]
     },
     "execution_count": 11,
     "metadata": {},
     "output_type": "execute_result"
    }
   ],
   "source": [
    "a[4:9]"
   ]
  },
  {
   "cell_type": "code",
   "execution_count": 14,
   "id": "9b0aa0bb-f7b4-49e5-aa0a-f52a201a2c9f",
   "metadata": {},
   "outputs": [
    {
     "data": {
      "text/plain": [
       "'gramm'"
      ]
     },
     "execution_count": 14,
     "metadata": {},
     "output_type": "execute_result"
    }
   ],
   "source": [
    "a[3:8]"
   ]
  },
  {
   "cell_type": "code",
   "execution_count": 15,
   "id": "e8ae9e82-a685-4958-8050-9c74ed593741",
   "metadata": {},
   "outputs": [
    {
     "data": {
      "text/plain": [
       "'gramm'"
      ]
     },
     "execution_count": 15,
     "metadata": {},
     "output_type": "execute_result"
    }
   ],
   "source": [
    "a[-8:-3]"
   ]
  },
  {
   "cell_type": "code",
   "execution_count": 16,
   "id": "c9fab5ec-175a-465e-a8dd-6d55561acfed",
   "metadata": {},
   "outputs": [
    {
     "data": {
      "text/plain": [
       "'programming'"
      ]
     },
     "execution_count": 16,
     "metadata": {},
     "output_type": "execute_result"
    }
   ],
   "source": [
    "a[:]"
   ]
  },
  {
   "cell_type": "code",
   "execution_count": 17,
   "id": "39460b69-efb1-4405-bfa9-c18567a90678",
   "metadata": {},
   "outputs": [
    {
     "data": {
      "text/plain": [
       "'programming'"
      ]
     },
     "execution_count": 17,
     "metadata": {},
     "output_type": "execute_result"
    }
   ],
   "source": [
    "a[::]"
   ]
  },
  {
   "cell_type": "code",
   "execution_count": 18,
   "id": "caed7534-736e-4253-970b-bfc683526e97",
   "metadata": {},
   "outputs": [
    {
     "data": {
      "text/plain": [
       "'gnimmargorp'"
      ]
     },
     "execution_count": 18,
     "metadata": {},
     "output_type": "execute_result"
    }
   ],
   "source": [
    "a[::-1]"
   ]
  },
  {
   "cell_type": "code",
   "execution_count": 19,
   "id": "6c70562b-2e08-4a6c-8dc9-2738e6f4d814",
   "metadata": {},
   "outputs": [
    {
     "data": {
      "text/plain": [
       "'programming'"
      ]
     },
     "execution_count": 19,
     "metadata": {},
     "output_type": "execute_result"
    }
   ],
   "source": [
    "a[::1]"
   ]
  },
  {
   "cell_type": "code",
   "execution_count": 20,
   "id": "fdfab95f-90d3-4e45-a3a2-e1cbea7484c1",
   "metadata": {},
   "outputs": [
    {
     "data": {
      "text/plain": [
       "'pormig'"
      ]
     },
     "execution_count": 20,
     "metadata": {},
     "output_type": "execute_result"
    }
   ],
   "source": [
    "a[::2]"
   ]
  },
  {
   "cell_type": "code",
   "execution_count": 21,
   "id": "1b000a86-98f6-4ed9-ba48-35157c13d07f",
   "metadata": {},
   "outputs": [
    {
     "data": {
      "text/plain": [
       "'programming'"
      ]
     },
     "execution_count": 21,
     "metadata": {},
     "output_type": "execute_result"
    }
   ],
   "source": [
    "a"
   ]
  },
  {
   "cell_type": "code",
   "execution_count": 22,
   "id": "94dbcca1-fcc3-48ef-981f-0b516e293bcc",
   "metadata": {},
   "outputs": [
    {
     "data": {
      "text/plain": [
       "'pgmn'"
      ]
     },
     "execution_count": 22,
     "metadata": {},
     "output_type": "execute_result"
    }
   ],
   "source": [
    "a[::3]"
   ]
  },
  {
   "cell_type": "code",
   "execution_count": 23,
   "id": "cb985e5b-a453-47f3-8718-66270ddde2af",
   "metadata": {},
   "outputs": [
    {
     "data": {
      "text/plain": [
       "'gimrop'"
      ]
     },
     "execution_count": 23,
     "metadata": {},
     "output_type": "execute_result"
    }
   ],
   "source": [
    "a[::-2]"
   ]
  },
  {
   "cell_type": "markdown",
   "id": "12b79425-2152-4c01-b621-3acf1fcb3db2",
   "metadata": {},
   "source": [
    "# String Methods:"
   ]
  },
  {
   "cell_type": "code",
   "execution_count": null,
   "id": "ca64ffaa-9bbf-4a1a-bb32-3ca769691c32",
   "metadata": {},
   "outputs": [],
   "source": [
    " String Methods:\n",
    "\n"
   ]
  }
 ],
 "metadata": {
  "kernelspec": {
   "display_name": "Python 3 (ipykernel)",
   "language": "python",
   "name": "python3"
  },
  "language_info": {
   "codemirror_mode": {
    "name": "ipython",
    "version": 3
   },
   "file_extension": ".py",
   "mimetype": "text/x-python",
   "name": "python",
   "nbconvert_exporter": "python",
   "pygments_lexer": "ipython3",
   "version": "3.11.7"
  }
 },
 "nbformat": 4,
 "nbformat_minor": 5
}
